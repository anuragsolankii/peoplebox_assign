{
 "cells": [
  {
   "cell_type": "code",
   "execution_count": 1,
   "id": "58b6cc86",
   "metadata": {},
   "outputs": [],
   "source": [
    "import pandas as pd\n",
    "from datetime import datetime, timedelta\n",
    "\n",
    "# Load the input CSV file\n",
    "df = pd.read_csv('input.csv')\n",
    "\n",
    "# Convert date columns to datetime objects\n",
    "date_columns = ['Date of Joining', 'Date of Exit', 'Compensation 1 date', 'Compensation 2 date',\n",
    "                'Review 1 date', 'Review 2 date', 'Engagement 1 date', 'Engagement 2 date']\n",
    "for col in date_columns:\n",
    "    df[col] = pd.to_datetime(df[col], errors='coerce')\n",
    "\n",
    "# Define function to calculate effective and end dates\n",
    "def calculate_dates(row, next_date):\n",
    "    if pd.isnull(next_date):\n",
    "        return pd.Timestamp('2100-01-01')\n",
    "    else:\n",
    "        return next_date - timedelta(days=1)\n",
    "\n",
    "# Initialize lists to store transformed data\n",
    "transformed_data = []\n",
    "\n",
    "# Iterate over each row in the dataframe\n",
    "for i in range(len(df)):\n",
    "    # Current row and next row\n",
    "    current_row = df.iloc[i]\n",
    "    next_row = df.iloc[i+1] if i < len(df) - 1 else None\n",
    "\n",
    "    # Extract relevant data\n",
    "    emp_code = current_row['Employee Code']\n",
    "    manager_emp_code = current_row['Manager Employee Code']\n",
    "    last_compensation = current_row['Compensation']\n",
    "    last_pay_raise_date = current_row['Compensation 2 date']\n",
    "    variable_pay = current_row['Compensation 1']\n",
    "    tenure_in_org = current_row['Date of Joining']\n",
    "    performance_rating = current_row['Review 2']\n",
    "    engagement_score = current_row['Engagement 2']\n",
    "    effective_date = current_row['Date of Joining']\n",
    "    end_date = calculate_dates(current_row, next_row['Date of Joining'] if next_row is not None else None)\n",
    "\n",
    "    # Add transformed rows to the list\n",
    "    transformed_data.append([emp_code, manager_emp_code, last_compensation, variable_pay, last_pay_raise_date,\n",
    "                             tenure_in_org, performance_rating, engagement_score, effective_date, end_date])\n",
    "\n",
    "# Create a dataframe from the transformed data\n",
    "transformed_df = pd.DataFrame(transformed_data, columns=[\n",
    "    'Employee Code', 'Manager Employee Code', 'Last Compensation', 'Variable Pay', 'Last Pay Raise Date',\n",
    "    'Tenure in Org', 'Performance Rating', 'Engagement Score', 'Effective Date', 'End Date'])\n",
    "\n",
    "# Write the transformed dataframe to a CSV file\n",
    "transformed_df.to_csv('transformed_employee_data.csv', index=False)\n"
   ]
  },
  {
   "cell_type": "code",
   "execution_count": null,
   "id": "5978a64e",
   "metadata": {},
   "outputs": [],
   "source": []
  }
 ],
 "metadata": {
  "kernelspec": {
   "display_name": "Python 3 (ipykernel)",
   "language": "python",
   "name": "python3"
  },
  "language_info": {
   "codemirror_mode": {
    "name": "ipython",
    "version": 3
   },
   "file_extension": ".py",
   "mimetype": "text/x-python",
   "name": "python",
   "nbconvert_exporter": "python",
   "pygments_lexer": "ipython3",
   "version": "3.11.5"
  }
 },
 "nbformat": 4,
 "nbformat_minor": 5
}
